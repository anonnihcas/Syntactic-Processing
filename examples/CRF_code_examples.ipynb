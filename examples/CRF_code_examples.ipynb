{
 "cells": [
  {
   "cell_type": "code",
   "execution_count": null,
   "metadata": {},
   "outputs": [],
   "source": [
    "import spacy\n",
    "from spacy import displacy\n",
    "import pandas as pd \n",
    "\n",
    "\n",
    "model = spacy.load(\"en_core_web_sm\") #load pre-trained model\n",
    "## Read the file in variable name ‘doc’\n",
    "\n",
    "processed_doc = model(doc); #process input and perform NLP tasks\n",
    "a=0\n",
    "c=0\n",
    "for ent in processed_doc.ents:\n",
    "  if ent.label_ == 'MONEY':\n",
    "    c= c+1\n",
    "    b = ent.text \n",
    "    a = a+ int(b)\n",
    "\n",
    "print(a/c)"
   ]
  },
  {
   "cell_type": "code",
   "execution_count": null,
   "metadata": {},
   "outputs": [],
   "source": [
    "\n",
    "model = spacy.load(\"en_core_web_sm\") #load pre-trained model\n",
    "## Read the file in variable name ‘doc’\n",
    " \n",
    "processed_doc = model(doc); #process input and perform NLP tasks\n",
    "for ent in processed_doc.ents:\n",
    "  if ent.label_ == 'DATE':\n",
    "    print(ent.text)"
   ]
  },
  {
   "cell_type": "code",
   "execution_count": null,
   "metadata": {},
   "outputs": [],
   "source": [
    "\n",
    "nlp = spacy.load(\"en_core_web_sm\")\n",
    "\n",
    "doc = nlp(\"Harry is not gardening as it is raining\")\n",
    "for tok in doc:\n",
    "    print(tok.text,tok.dep_)\n",
    "\n",
    "displacy.render(doc, style=\"dep\", jupyter = True)"
   ]
  },
  {
   "cell_type": "code",
   "execution_count": null,
   "metadata": {},
   "outputs": [],
   "source": [
    "nlp = spacy.load(\"en_core_web_sm\")\n",
    "\n",
    "doc = nlp(\"Harry is not gardening as it is raining\")\n",
    "for tok in doc:\n",
    "    print(tok.text,tok.dep_)\n",
    "\n",
    "displacy.render(doc, style=\"dep\", jupyter = True)"
   ]
  },
  {
   "cell_type": "code",
   "execution_count": null,
   "metadata": {},
   "outputs": [],
   "source": [
    "\n",
    "model = spacy.load(\"en_core_web_sm\")\n",
    "doc = \"Christmas\" \n",
    "processed_doc = model(doc);\n",
    "for ent in processed_doc.ents: \n",
    "  print(ent.text, \" -- \", ent.label_)"
   ]
  }
 ],
 "metadata": {
  "kernelspec": {
   "display_name": "Python 3",
   "language": "python",
   "name": "python3"
  },
  "language_info": {
   "name": "python",
   "version": "3.12.0"
  }
 },
 "nbformat": 4,
 "nbformat_minor": 2
}

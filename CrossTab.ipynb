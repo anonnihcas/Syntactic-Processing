{
 "cells": [
  {
   "cell_type": "code",
   "execution_count": 3,
   "metadata": {},
   "outputs": [
    {
     "name": "stdout",
     "output_type": "stream",
     "text": [
      "0.001\n"
     ]
    }
   ],
   "source": [
    "import pandas as pd\n",
    "data = pd.read_csv(\"tagged_words.csv\")\n",
    "emmission_matrix = pd.crosstab(data['word'],data['tag'],normalize='columns')\n",
    "\n",
    "word = 'his'\n",
    "emmission_matrix.loc[word][emmission_matrix.loc[word]>0].round(3)\n",
    "print(emmission_matrix['PRON'].loc['his'].round(3))\n",
    "\n",
    "print(emmission_matrix.loc[word][emmission_matrix.loc[word]>0])"
   ]
  },
  {
   "cell_type": "code",
   "execution_count": 1,
   "metadata": {},
   "outputs": [
    {
     "name": "stdout",
     "output_type": "stream",
     "text": [
      "When when SCONJ advmod\n",
      "was be AUX auxpass\n",
      "the the DET det\n",
      "church church NOUN nsubj\n",
      "built build VERB ROOT\n",
      "? ? PUNCT punct\n"
     ]
    }
   ],
   "source": [
    "import spacy\n",
    "from spacy import displacy\n",
    "nlp = spacy.load(\"en_core_web_sm\")\n",
    " \n",
    "doc = nlp(\"When was the church built?\")\n",
    "for tok in doc:\n",
    "    print(tok.text,tok.lemma_,tok.pos_,tok.dep_)"
   ]
  },
  {
   "cell_type": "markdown",
   "metadata": {},
   "source": [
    "lUSJd85DdzKa7Nx24P5m5WCMrI6GEbYjaEAt - Cohere API Key"
   ]
  },
  {
   "cell_type": "code",
   "execution_count": null,
   "metadata": {},
   "outputs": [],
   "source": []
  }
 ],
 "metadata": {
  "kernelspec": {
   "display_name": "Python 3",
   "language": "python",
   "name": "python3"
  },
  "language_info": {
   "codemirror_mode": {
    "name": "ipython",
    "version": 3
   },
   "file_extension": ".py",
   "mimetype": "text/x-python",
   "name": "python",
   "nbconvert_exporter": "python",
   "pygments_lexer": "ipython3",
   "version": "3.12.0"
  }
 },
 "nbformat": 4,
 "nbformat_minor": 2
}
